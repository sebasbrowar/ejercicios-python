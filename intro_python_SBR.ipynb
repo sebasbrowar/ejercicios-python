{
  "cells": [
    {
      "cell_type": "markdown",
      "metadata": {
        "id": "bOTfs-27aq5x"
      },
      "source": [
        "<a href=\"https://colab.research.google.com/github/mcd-unison/material-programacion/blob/main/intro-python.ipynb\" target=\"_parent\"><img src=\"https://colab.research.google.com/assets/colab-badge.svg\" alt=\"Open In Colab\"/></a>"
      ]
    },
    {
      "cell_type": "markdown",
      "metadata": {
        "id": "DX8eNdPwaq50"
      },
      "source": [
        "<center>\n",
        "<p><img src=\"https://mcd.unison.mx/wp-content/themes/awaken/img/logo_mcd.png\" width=\"100\">\n",
        "</p>\n",
        "\n",
        "\n",
        "\n",
        "# Curso Propedéutico en *Programación*\n",
        "\n",
        "## Introducción a `python` resolviendo preguntas\n",
        "\n",
        "\n",
        "**Julio Waissman Vilanova**\n",
        "\n"
      ]
    },
    {
      "cell_type": "markdown",
      "metadata": {
        "id": "L_DZmzbraq52"
      },
      "source": [
        "### Tipos\n",
        "\n",
        "¿Cuales son los tipos de datos básicos? Revisa los tipos siguientes:\n",
        "\n",
        "1. Tipos numéricos `int`, `float`, `complex`\n",
        "2. Cadenas de caracteres\n",
        "3. Tuplas\n",
        "4. Listas\n",
        "5. Diccionarios\n",
        "6. Conjuntos\n",
        "\n",
        "Da ejemplo de sobrecarga de operadores (en particular `+` y `*`)\n",
        "\n"
      ]
    },
    {
      "cell_type": "code",
      "execution_count": null,
      "metadata": {
        "id": "__PMnK_Kaq52",
        "colab": {
          "base_uri": "https://localhost:8080/"
        },
        "outputId": "44d5026d-fdb7-4a19-c11f-2dc9feaf52cf"
      },
      "outputs": [
        {
          "output_type": "stream",
          "name": "stdout",
          "text": [
            "hola como estas\n",
            "holaholaholaholahola\n",
            "56\n"
          ]
        }
      ],
      "source": [
        "print(\"hola\" + \" como estas\")\n",
        "print(\"hola\" * 5)\n",
        "print(7 * 8)"
      ]
    },
    {
      "cell_type": "markdown",
      "metadata": {
        "id": "PeoODO2Daq53"
      },
      "source": [
        "¿Que significa que unos tipos sean *mutables* y otros *inmutables*?\n",
        "\n",
        "Realiza un pequeño programa donde quede claro lo que significa que un tipo de datos sea mutable, e ilustra el uso del método `copy.deepcopy()`."
      ]
    },
    {
      "cell_type": "code",
      "execution_count": null,
      "metadata": {
        "id": "P5YryNOiaq53",
        "colab": {
          "base_uri": "https://localhost:8080/"
        },
        "outputId": "886ec89f-a1b6-4b4d-b016-d4edd9ef82a8"
      },
      "outputs": [
        {
          "output_type": "stream",
          "name": "stdout",
          "text": [
            "[2, 'hola', [3, 4, 5], {'num': 789}, 4.5, 10]\n",
            "[2, 'hola', [3, 4, 5], {'num': 789}, 4.5, 10, 'mutable']\n"
          ]
        }
      ],
      "source": [
        "# Los datos que son mutables son aquellos que pueden cambiar y modificarse despues de haberlos creado, como por ejemplo las listas, diccionarios, conjuntos.\n",
        "# En cambio los datos inmutables son aquellos que no pueden ser modificados una vez creados, como por ejemplo los tipos de numeros, las cadenas de caracteres, tulpas.\n",
        "\n",
        "# Añadimos la bilbioteca copy\n",
        "import copy\n",
        "\n",
        "# Creamos una lista con distintos tipos de datos\n",
        "l = [2, \"hola\", [3, 4, 5], {\"num\" : 789}, 4.5, 10]\n",
        "\n",
        "# Creamos la copia de la lista\n",
        "l2 = copy.deepcopy(l)\n",
        "\n",
        "# Agregamos un dato mas para probar que es mutable\n",
        "l2.append(\"mutable\")\n",
        "\n",
        "# Imprimimos\n",
        "print(l)\n",
        "print(l2)"
      ]
    },
    {
      "cell_type": "markdown",
      "metadata": {
        "id": "jYmcKGa5aq53"
      },
      "source": [
        "### *Comprehension* de listas, conjuntos y diccionarios\n",
        "\n",
        "Escribe, en una sola linea, una expresión que genere una lista con la raíz cuadrada de todos los números enteros que se encuentran entre $1$ y $n$\n",
        "que sean divisibles por $3$ y $7$ y que el dígito menos significativo del número sea $6$."
      ]
    },
    {
      "cell_type": "code",
      "execution_count": null,
      "metadata": {
        "id": "XFIHypR7aq54",
        "colab": {
          "base_uri": "https://localhost:8080/"
        },
        "outputId": "90374b8f-0f1a-4066-995f-bf37dab135eb"
      },
      "outputs": [
        {
          "output_type": "stream",
          "name": "stdout",
          "text": [
            "[11.224972160321824, 18.33030277982336, 23.366642891095847, 27.49545416973504, 31.080540535840107, 34.292856398964496, 37.22902093797257, 39.949968710876355, 42.49705872175156, 44.8998886412873, 47.18050444834179, 49.35585071701227, 51.43928459844674, 53.44155686354955, 55.37147279962851, 57.23635208501674, 59.04235767650204, 60.794736614282655, 62.49799996799898, 64.15605972938177, 65.7723346096214, 67.34983296193094, 68.89121859859934, 70.39886362719217, 71.87489130426563, 73.32121111929344, 74.73954776421918, 76.13146524269712, 77.49838707999025, 78.8416133777081, 80.16233529532433, 81.4616474176652, 82.74055837375042, 84.0, 85.24083528450434, 86.46386528486914, 87.66983517721475, 88.85943956609225, 90.033327162779, 91.19210492142398, 92.33634170791044, 93.46657156438339, 94.58329662260668, 95.68698971124549, 96.77809669548166, 97.85703858180054, 98.92421341612983, 99.9799979995999]\n"
          ]
        }
      ],
      "source": [
        "n = 10_000\n",
        "\n",
        "# Escribe aqui el *one linner*\n",
        "lista = [ x**(1/2) for x in range(1, n + 1)\n",
        "          if x % 3 == 0 and x % 7 == 0 and x % 10 == 6]\n",
        "\n",
        "print(lista)"
      ]
    },
    {
      "cell_type": "markdown",
      "metadata": {
        "id": "_qA3mfDjaq55"
      },
      "source": [
        "### Funciones\n",
        "\n",
        "Escribe una función que:\n",
        "\n",
        "1. reciba una lista de elementos (letras, números, lo que sea),\n",
        "2. cuente la ocurrencia de cada elemento en la lista,\n",
        "3. devuelva las ocurrencias en forma de diccionario,\n",
        "4. si imprime es True, imprima un histograma de ocurrencias, por ejemplo:\n",
        "\n",
        "```python\n",
        "\n",
        "lista = [1,'a',1, 13, 'hola', 'a', 1, 1, 'a', 1]\n",
        "\n",
        "d = funcion_ejemplo(lista, imprime = True)\n",
        "\n",
        "1    \t\t***** \t(5 -> 50%)\n",
        "'a'  \t\t***   \t(3 -> 30%)\n",
        "13\t\t*\t(1 -> 10%)\n",
        "'hola'\t\t*\t(1 -> 10%)\n",
        "\n",
        "```"
      ]
    },
    {
      "cell_type": "code",
      "source": [
        "lista = [1,'a',1, 13, 'hola', 'a', 1, 1, 'a', 1]\n",
        "\n",
        "# Escribe la función aquí\n",
        "def funcion_ejemplo(lista, imprime=False):\n",
        "  \"\"\"\n",
        "  Genera un diccionario con las ocurrencias de cada elemento diferente lista.\n",
        "\n",
        "  Si imprime==True, imprime en pantalla las ocurrencias\n",
        "  \"\"\"\n",
        "  d = { x: lista.count(x) for x in set(lista)}\n",
        "\n",
        "  if imprime:\n",
        "    for (key, val) in d.items():\n",
        "      print(f\"{key}\\t\\t{val * '*'}\\t\\t({val} --> {val / len(lista):.0%})\")\n",
        "\n",
        "  return d\n",
        "\n",
        "d = funcion_ejemplo(lista, imprime = True)\n",
        "print(d)"
      ],
      "metadata": {
        "colab": {
          "base_uri": "https://localhost:8080/"
        },
        "id": "d14HQLBC9FBv",
        "outputId": "c8587c1b-b48c-442b-cf7c-837dc44c674a"
      },
      "execution_count": null,
      "outputs": [
        {
          "output_type": "stream",
          "name": "stdout",
          "text": [
            "1\t\t*****\t\t(5 --> 50%)\n",
            "a\t\t***\t\t(3 --> 30%)\n",
            "13\t\t*\t\t(1 --> 10%)\n",
            "hola\t\t*\t\t(1 --> 10%)\n",
            "{1: 5, 'a': 3, 13: 1, 'hola': 1}\n"
          ]
        }
      ]
    },
    {
      "cell_type": "code",
      "execution_count": null,
      "metadata": {
        "id": "kHS8s3e6aq56",
        "colab": {
          "base_uri": "https://localhost:8080/"
        },
        "outputId": "04b8b02c-4868-4be5-a66a-7ef911b68156"
      },
      "outputs": [
        {
          "output_type": "stream",
          "name": "stdout",
          "text": [
            "{1: 5, 'a': 3, 13: 1, 'hola': 1}\n"
          ]
        }
      ],
      "source": [
        "# Realiza pruebas aquí\n",
        "lista = [1,'a',1, 13, 'hola', 'a', 1, 1, 'a', 1]\n",
        "d = {}\n",
        "\n",
        "for item in lista:\n",
        "  x = lista.count(item)\n",
        "  d[item] = x\n",
        "\n",
        "print(d)"
      ]
    },
    {
      "cell_type": "markdown",
      "metadata": {
        "id": "Ztos4Ldaaq56"
      },
      "source": [
        "Escribe una función que modifique un diccionario y regrese el diccionario modificado y una copia del original, donde cada entrada\n",
        "del diccionario sea una lista de valores. Ten en cuenta que si una entrada del diccionario es de tipo mutable, al modificarlo en la\n",
        "copia se modifica el original. Utiliza el modulo `copy` para evitar este problema. Ejemplo de la función:\n",
        "\n",
        "```python\n",
        "dic1 = {'Pepe':[12, 'enero', 1980], 'Carolina':[15,'mayo',1975],'Paco':[10,'nov',1970]}\n",
        "dic2 = fundicos(dic1, 'Pepe', 1, 'febrero')\n",
        "\n",
        "print(dic1)\n",
        "{'Pepe':[12, 'enero', 1980], 'Carolina':[15,'mayo',1975],'Paco':[10,'nov',1970]}\n",
        "\n",
        "print(dic2)\n",
        "{'Pepe':[12, 'febrero', 1980], 'Carolina':[15,'mayo',1975],'Paco':[10,'nov',1970]}\n",
        "```"
      ]
    },
    {
      "cell_type": "code",
      "execution_count": null,
      "metadata": {
        "id": "D7UzGqctaq56"
      },
      "outputs": [],
      "source": [
        "# Escribe la función fundicos aquí\n",
        "def fundicos(dic, persona, posicion, mes):\n",
        "  \"\"\"\n",
        "  Genera una nueva version del diccionario dic1. Podemos cambiar los meses de cada persona mientras mantengamos la posicion como 1\n",
        "\n",
        "  Nos regresa el diccionario modificado y una copia del original\n",
        "  \"\"\"\n",
        "  # Primero hacemos la copia, y luego ya podemos obtener nuestro nuevo diccionario\n",
        "  dic_copy = copy.deepcopy(dic)\n",
        "  dic_v2 = dic\n",
        "\n",
        "  # Cambiamos el mes\n",
        "  dic_v2[persona][posicion] = mes\n",
        "\n",
        "  return \"Version modificada: {} y copia original: {}\".format(dic_v2, dic_copy)"
      ]
    },
    {
      "cell_type": "code",
      "execution_count": null,
      "metadata": {
        "id": "Geck34TRaq57",
        "colab": {
          "base_uri": "https://localhost:8080/"
        },
        "outputId": "c9a744fc-3007-4582-83a3-e5b1a8ff6ea2"
      },
      "outputs": [
        {
          "output_type": "stream",
          "name": "stdout",
          "text": [
            "{'Pepe': [12, 'febrero', 1980], 'Carolina': [15, 'mayo', 1975], 'Paco': [10, 'nov', 1970]}\n",
            "Version modificada: {'Pepe': [12, 'febrero', 1980], 'Carolina': [15, 'mayo', 1975], 'Paco': [10, 'nov', 1970]} y copia original: {'Pepe': [12, 'enero', 1980], 'Carolina': [15, 'mayo', 1975], 'Paco': [10, 'nov', 1970]}\n"
          ]
        }
      ],
      "source": [
        "# Realiza pruebas de fundicos aquí\n",
        "dic1 = {'Pepe':[12, 'enero', 1980], 'Carolina':[15,'mayo',1975],'Paco':[10,'nov',1970]}\n",
        "dic2 = fundicos(dic1, 'Pepe', 1, 'febrero')\n",
        "\n",
        "print(dic1) # Observamos que como los diccionarios son mutables, este se modifica\n",
        "print(dic2)"
      ]
    },
    {
      "cell_type": "markdown",
      "metadata": {
        "id": "HP3JB_ODaq5-"
      },
      "source": [
        "### Generadores\n",
        "\n",
        "Escribe un generador que reciba una lista y genere todas las permutaciones que se puedan hacer con los elementos de la lista"
      ]
    },
    {
      "cell_type": "code",
      "execution_count": null,
      "metadata": {
        "id": "qVf95oO1aq5_"
      },
      "outputs": [],
      "source": [
        "# Escribe aqui fun1\n",
        "\n",
        "def permutaciones(lista):\n",
        "    \"\"\"\n",
        "    Permutaciones de los elementos de una lista.\n",
        "\n",
        "    Devuelve un generador con todas las permutaciones posibles de los elementos de la lista de entrada\n",
        "    \"\"\"\n",
        "    if len(lista) == 0:\n",
        "      yield lista\n",
        "    else:\n",
        "      for (i, elemento) in enumerate(lista):\n",
        "        lista_menos_elem = lista[:i] + lista[i+1:]\n",
        "        for perm in permutaciones(lista_menos_elem):\n",
        "          yield [elemento] + perm"
      ]
    },
    {
      "cell_type": "code",
      "execution_count": null,
      "metadata": {
        "id": "3d_MNDVfaq5_",
        "colab": {
          "base_uri": "https://localhost:8080/"
        },
        "outputId": "5c7b2e6a-c236-406e-907b-0e2179b90e1c"
      },
      "outputs": [
        {
          "output_type": "stream",
          "name": "stdout",
          "text": [
            "['a', 'b', 'c', 'd']\n",
            "['a', 'b', 'd', 'c']\n",
            "['a', 'c', 'b', 'd']\n",
            "['a', 'c', 'd', 'b']\n",
            "['a', 'd', 'b', 'c']\n",
            "['a', 'd', 'c', 'b']\n",
            "['b', 'a', 'c', 'd']\n",
            "['b', 'a', 'd', 'c']\n",
            "['b', 'c', 'a', 'd']\n",
            "['b', 'c', 'd', 'a']\n",
            "['b', 'd', 'a', 'c']\n",
            "['b', 'd', 'c', 'a']\n",
            "['c', 'a', 'b', 'd']\n",
            "['c', 'a', 'd', 'b']\n",
            "['c', 'b', 'a', 'd']\n",
            "['c', 'b', 'd', 'a']\n",
            "['c', 'd', 'a', 'b']\n",
            "['c', 'd', 'b', 'a']\n",
            "['d', 'a', 'b', 'c']\n",
            "['d', 'a', 'c', 'b']\n",
            "['d', 'b', 'a', 'c']\n",
            "['d', 'b', 'c', 'a']\n",
            "['d', 'c', 'a', 'b']\n",
            "['d', 'c', 'b', 'a']\n"
          ]
        }
      ],
      "source": [
        "# Realiza pruebas de fun2 aquí\n",
        "for p in permutaciones(['a', 'b', 'c', 'd']):\n",
        "    print(p)"
      ]
    },
    {
      "cell_type": "markdown",
      "metadata": {
        "id": "phzxrx8waq6A"
      },
      "source": [
        "Ahora escribe una función que reciba 4 digitos del 0 al 9, y devuelva una lista con todas las horas váidas que se puedan hacer con estos dígitos en forma de lista de strings con la forma `\"HH:MM\"`."
      ]
    },
    {
      "cell_type": "code",
      "execution_count": null,
      "metadata": {
        "id": "pocc3wAsaq6B"
      },
      "outputs": [],
      "source": [
        "def horas_validas(lista):\n",
        "    \"\"\"\n",
        "    Calcula las horas posibles al darle 4 numeros como lista, utilizando la funcion permutacion que hicimos previamente\n",
        "\n",
        "    Devuelve una lista con las horas en formato de HH:MM\n",
        "    \"\"\"\n",
        "    horas = []\n",
        "    for i in permutaciones(lista):\n",
        "\n",
        "      if i[2] <= 5 and i[1] <= 4 and i[0] <= 2:\n",
        "        horas.append(str(i[0]) + str(i[1]) + \":\" + str(i[2]) + str(i[3]))\n",
        "    return horas"
      ]
    },
    {
      "cell_type": "markdown",
      "metadata": {
        "id": "ON-t6phEaq6B"
      },
      "source": [
        "Validando:"
      ]
    },
    {
      "cell_type": "code",
      "execution_count": null,
      "metadata": {
        "id": "T-gAWWyeaq6B",
        "colab": {
          "base_uri": "https://localhost:8080/"
        },
        "outputId": "7dabbb79-e0e8-4b17-9084-78b95ec619bc"
      },
      "outputs": [
        {
          "output_type": "stream",
          "name": "stdout",
          "text": [
            "['12:37', '13:27', '21:37', '23:17']\n"
          ]
        }
      ],
      "source": [
        "print(horas_validas([1,2,3,7]))"
      ]
    },
    {
      "cell_type": "markdown",
      "metadata": {
        "id": "23AIggowaq6C"
      },
      "source": [
        "Escribe una función, lo más compacta posible, que escoja entre los 3 patrones ascii a continuación, e imprima en pantalla\n",
        "el deseado, pero de dimensión $n$ ($n \\ge 4$), toma en cuanta que para algunos valores de $n$ habrá\n",
        "algún(os) patrones que no se puedan hacer.\n",
        "\n",
        "```\n",
        "          *             ++++           oooooooo\n",
        "          **            ++++           ooo  ooo\n",
        "          ***           ++++           oo    oo\n",
        "          ****          ++++           o      o\n",
        "          *****             ++++       o      o\n",
        "          ******            ++++       oo    oo\n",
        "          *******           ++++       ooo  ooo\n",
        "          ********          ++++       oooooooo\n",
        "\n",
        "```"
      ]
    },
    {
      "cell_type": "code",
      "execution_count": 76,
      "metadata": {
        "id": "oLV_6sNlaq6C"
      },
      "outputs": [],
      "source": [
        "# Escribe aquí la función\n",
        "def patron(figure, n):\n",
        "  i = 1\n",
        "\n",
        "# Triangulo, 1er figura\n",
        "  if figure == \"triangulo\":\n",
        "    while i <= n:\n",
        "      print(\"*\" * i)\n",
        "      i += 1\n",
        "\n",
        "# Rectangulo, 2da figura\n",
        "  elif figure == \"rectangulo\":\n",
        "    if n % 2 == 0:\n",
        "      mitad = n / 2\n",
        "      while i <= mitad:\n",
        "        print(\"+\" * 4)\n",
        "        i += 1\n",
        "      while i <= n:\n",
        "        print(\" \" * 4, \"+\" * 4)\n",
        "        i += 1\n",
        "    else:\n",
        "      print(\"Por favor, inserte una n que sea par.\")\n",
        "\n",
        "# Rombo, 3era figura\n",
        "  elif figure == \"rombo\":\n",
        "# Para generar la parte de arriba del rombo\n",
        "    for i in range(1, n + 1):\n",
        "      if i == 1:\n",
        "        print(\"o\" * (n - i) + \"o\" * (n - i))\n",
        "      elif i == 2:\n",
        "        print(\"o\" * (n - i) + \" \" * i + \"o\" * (n - i))\n",
        "      elif i == 3:\n",
        "        print(\"o\" * (n - i) + \" \" * (i + 1) + \"o\" * (n - i))\n",
        "      elif i == 4:\n",
        "        print(\"o\" * (n - i) + \" \" * (i + 2) + \"o\" * (n - i))\n",
        "\n",
        "# Para generar la parte de abajo del rombo\n",
        "    for i in range(n - 1, 0, -1):\n",
        "      if i == 1:\n",
        "        print(\"o\" * (n - i) + \"o\" * (n - i))\n",
        "      elif i == 2:\n",
        "        print(\"o\" * (n - i) + \" \" * i + \"o\" * (n - i))\n",
        "      elif i == 3:\n",
        "        print(\"o\" * (n - i) + \" \" * (i + 1) + \"o\" * (n - i))\n",
        "      elif i == 4:\n",
        "        print(\"o\" * (n - i) + \" \" * (i + 2) + \"o\" * (n - i))\n",
        "\n",
        "  return \"\""
      ]
    },
    {
      "cell_type": "code",
      "execution_count": 77,
      "metadata": {
        "id": "ytOk2Apbaq6C",
        "colab": {
          "base_uri": "https://localhost:8080/"
        },
        "outputId": "02c6be6b-618c-4a98-d41d-f73a4024c920"
      },
      "outputs": [
        {
          "output_type": "stream",
          "name": "stdout",
          "text": [
            "*\n",
            "**\n",
            "***\n",
            "****\n",
            "*****\n",
            "******\n",
            "*******\n",
            "********\n",
            "\n",
            "++++\n",
            "++++\n",
            "++++\n",
            "++++\n",
            "     ++++\n",
            "     ++++\n",
            "     ++++\n",
            "     ++++\n",
            "\n",
            "oooooooo\n",
            "ooo  ooo\n",
            "oo    oo\n",
            "o      o\n",
            "o      o\n",
            "oo    oo\n",
            "ooo  ooo\n",
            "oooooooo\n",
            "\n"
          ]
        }
      ],
      "source": [
        "#Realiza pruebas aquí\n",
        "print(patron(\"triangulo\", 8))\n",
        "print(patron(\"rectangulo\", 8))\n",
        "print(patron(\"rombo\", 5))"
      ]
    },
    {
      "cell_type": "markdown",
      "metadata": {
        "id": "Z1DZcEfraq6D"
      },
      "source": [
        "### Clases y objetos\n",
        "\n",
        "Diseña una clase Matriz con las siguientes características:\n",
        "\n",
        "1. Como inicialización de un objeto es necesario conocer $n$, $m$ y tipo. En caso de no proporcionar $m$ la matriz se asume cuadrada de $n \\times n$. En caso de no proporcionar $n$ la matriz tendrá una dimensión de $1 \\times 1$.\n",
        "2. De no especificarse todos los elementos se inicializan a 0, a menos que exista un tipo especial ( `unos` o `diag` por el momento).\n",
        "3. Implementa con sobrecarga la suma de matrices, la multiplicación de matrices y la multiplicación por un escalar.\n",
        "4. Implementa como métodos eliminar columna y eliminar fila.   \n",
        "5. Programa la representación visual de la matriz.\n",
        "6. Ten en cuenta tambien el manejo de errores.\n",
        "\n",
        "\n",
        "Ejemplo de uso:\n",
        "\n",
        "```\n",
        ">>> A = Matriz(n=3, m=4)\n",
        "\n",
        ">>> print(A)\n",
        "0 0 0 0\n",
        "0 0 0 0\n",
        "0 0 0 0\n",
        "\n",
        ">>> A = A.quitafila(2)\n",
        "\n",
        ">>> print(A)\n",
        "0 0 0 0\n",
        "0 0 0 0\n",
        "\n",
        ">>> B = Matriz(4,4,'diag')\n",
        "\n",
        ">>> print(B)\n",
        "1 0 0 0\n",
        "0 1 0 0\n",
        "0 0 1 0\n",
        "0 0 0 1\n",
        "\n",
        ">>> C = Matriz(4,1,'unos')\n",
        "\n",
        ">>> print(C)\n",
        "1\n",
        "1\n",
        "1\n",
        "1\n",
        "\n",
        ">>> D = 3 * B * C\n",
        "\n",
        ">>> print(D)\n",
        "3\n",
        "3\n",
        "3\n",
        "3\n",
        "\n",
        ">>> E = 3 * B + C\n",
        "error \"No seas menso, si no son de la misma dimensión las matrices no se pueden sumar\"\n",
        "```"
      ]
    },
    {
      "cell_type": "code",
      "source": [
        "import numpy as np\n",
        "\n",
        "def matriz(n, m, tipo):\n",
        "    '''\n",
        "    Crea una matriz al introducir los valores de n y m\n",
        "\n",
        "    Nos devuelve la matriz creada\n",
        "    '''\n",
        "    # Tomaremos a 0 como si no se tuviera el valor de m o n\n",
        "    # Si m=0 --> m=n, si n=0 --> m=n=1\n",
        "\n",
        "    if m == 0:\n",
        "      m = n\n",
        "    elif n == 0:\n",
        "      n = 1\n",
        "      m = 1\n",
        "\n",
        "    matrix = []\n",
        "\n",
        "####### En caso de querer una matriz diagonal\n",
        "    if tipo == \"diag\":\n",
        "      matrix = np.eye(m) # Aplicamos la herramienta np.eye para crear la matriz diagonal\n",
        "\n",
        "####### En caso de querer una matriz con solo unos\n",
        "    if tipo == \"unos\":\n",
        "      for i in range(m):\n",
        "          matrix.append([]) # Se crean las listas que vienen siendo los renglones\n",
        "          for j in range(n):\n",
        "            matrix[i].append(1) # Se introduce cada numero que va en los renglones\n",
        "\n",
        "####### En caso de no especificar la matriz, se crea una con solo ceros\n",
        "    if tipo == \"\":\n",
        "      for i in range(m):\n",
        "          matrix.append([]) # Se crean las listas que vienen siendo los renglones\n",
        "          for j in range(n):\n",
        "            matrix[i].append(0) # Se introduce cada numero que va en los renglones\n",
        "\n",
        "####### En caso de querer escribir una matriz especifica\n",
        "    if tipo == \"norm\":\n",
        "      for i in range(m):\n",
        "          matrix.append([])\n",
        "          print(\"Ingresar numeros de renglon {}, uno a la vez.\".format(i + 1))\n",
        "          for j in range(n):\n",
        "            matrix[i].append(int(input(\"Agrega numero: \")))\n",
        "\n",
        "    return matrix"
      ],
      "metadata": {
        "id": "6O7KBNMMf3Qh"
      },
      "execution_count": 139,
      "outputs": []
    },
    {
      "cell_type": "code",
      "execution_count": 140,
      "metadata": {
        "id": "XyYpaTzsaq6D"
      },
      "outputs": [],
      "source": [
        "# Suma de matrices\n",
        "\n",
        "def matriz_sum(A, B):\n",
        "    \"\"\"\n",
        "    Se suman las matrices A y B\n",
        "\n",
        "    Nos devuelve la suma de las dos matrices, llamada C\n",
        "    \"\"\"\n",
        "    m = len(A)\n",
        "    n = len(A[0])\n",
        "\n",
        "    if len(A) == len(B) and len(A[0]) == len(B[0]): # Primero vemos si la suma es posible\n",
        "      C = []\n",
        "\n",
        "      for i in range(m):\n",
        "        C.append([]) # Aqui se va creando cada renglon\n",
        "        for j in range(n):\n",
        "          C[i].append(A[i][j] + B[i][j]) # Se le va añadiendo cada suma a los renglones correspondientes\n",
        "    else:\n",
        "      print(\"No se puede realizar la suma, pues las dimensiones de las matrices no coinciden.\")\n",
        "\n",
        "    return C"
      ]
    },
    {
      "cell_type": "code",
      "source": [
        "matriz_sum(matriz(2, 2, \"diag\"), matriz(2, 2, \"norm\"))"
      ],
      "metadata": {
        "colab": {
          "base_uri": "https://localhost:8080/"
        },
        "id": "3Hwhfc3DaWIE",
        "outputId": "75625155-3117-4994-f60f-aa2ae758770b"
      },
      "execution_count": 132,
      "outputs": [
        {
          "name": "stdout",
          "output_type": "stream",
          "text": [
            "Ingresar numeros de renglon 1, uno a la vez.\n",
            "Agrega numero: 2\n",
            "Agrega numero: 2\n",
            "Ingresar numeros de renglon 2, uno a la vez.\n",
            "Agrega numero: 2\n",
            "Agrega numero: 2\n"
          ]
        },
        {
          "output_type": "execute_result",
          "data": {
            "text/plain": [
              "[[3.0, 2.0], [2.0, 3.0]]"
            ]
          },
          "metadata": {},
          "execution_count": 132
        }
      ]
    },
    {
      "cell_type": "code",
      "source": [
        "# Eliminar columnas y filas\n",
        "\n",
        "def delcol(self, n=0): #donde n es la columna a quitar\n",
        "    if n == 0:\n",
        "      print(\"Ninguna columna ha sido elminiada\")\n",
        "    else:\n",
        "      for x in range(len(self.values)):\n",
        "         self.values[x].pop(n - 1)\n",
        "      print(f\"La columna {n} ha sido elminada\\n\")"
      ],
      "metadata": {
        "id": "pgmyYKOM2XKV"
      },
      "execution_count": 142,
      "outputs": []
    },
    {
      "cell_type": "code",
      "source": [
        "A = matriz(3, 3, \"\")\n",
        "print('A =', A)\n",
        "\n",
        "A.remove(A[1])\n",
        "print('A = ', A)"
      ],
      "metadata": {
        "colab": {
          "base_uri": "https://localhost:8080/"
        },
        "id": "w7gtJ5Ir_ho0",
        "outputId": "4b85637a-7915-424e-d780-0971cb0edfd5"
      },
      "execution_count": null,
      "outputs": [
        {
          "output_type": "stream",
          "name": "stdout",
          "text": [
            "A = [[0, 0, 0], [0, 0, 0], [0, 0, 0]]\n",
            "A =  [[0, 0, 0], [0, 0, 0]]\n"
          ]
        }
      ]
    },
    {
      "cell_type": "markdown",
      "source": [
        "PRUEBAS:"
      ],
      "metadata": {
        "id": "UL5ST07W2DkT"
      }
    },
    {
      "cell_type": "code",
      "source": [
        "A = matriz(3, 4, \"norm\")\n",
        "print('A =', A)"
      ],
      "metadata": {
        "id": "myenkhsS2AtZ",
        "colab": {
          "base_uri": "https://localhost:8080/"
        },
        "outputId": "e6d3ac4a-41f2-4c3d-bf6c-5cd0850a0779"
      },
      "execution_count": 145,
      "outputs": [
        {
          "output_type": "stream",
          "name": "stdout",
          "text": [
            "Ingresar numeros de renglon 1, uno a la vez.\n",
            "Agrega numero: 2\n",
            "Agrega numero: 1\n",
            "Agrega numero: 3\n",
            "Ingresar numeros de renglon 2, uno a la vez.\n",
            "Agrega numero: 5\n",
            "Agrega numero: 7\n",
            "Agrega numero: 2\n",
            "Ingresar numeros de renglon 3, uno a la vez.\n",
            "Agrega numero: 4\n",
            "Agrega numero: 1\n",
            "Agrega numero: 9\n",
            "Ingresar numeros de renglon 4, uno a la vez.\n",
            "Agrega numero: 2\n",
            "Agrega numero: 5\n",
            "Agrega numero: 7\n",
            "A = [[2, 1, 3], [5, 7, 2], [4, 1, 9], [2, 5, 7]]\n"
          ]
        }
      ]
    },
    {
      "cell_type": "code",
      "source": [
        "A = A.quitafila(2)\n",
        "print('A = ', A)"
      ],
      "metadata": {
        "id": "goHwghTF7s2D"
      },
      "execution_count": null,
      "outputs": []
    },
    {
      "cell_type": "code",
      "execution_count": 144,
      "metadata": {
        "id": "mJjekUsGaq6D",
        "colab": {
          "base_uri": "https://localhost:8080/"
        },
        "outputId": "0c331a66-b302-4d67-806d-601464b17e33"
      },
      "outputs": [
        {
          "output_type": "stream",
          "name": "stdout",
          "text": [
            "B =  [[1. 0. 0. 0.]\n",
            " [0. 1. 0. 0.]\n",
            " [0. 0. 1. 0.]\n",
            " [0. 0. 0. 1.]]\n",
            "C = [[1, 1, 1, 1]]\n",
            "D =  [[3. 0. 0. 0.]\n",
            " [0. 3. 0. 0.]\n",
            " [0. 0. 3. 0.]\n",
            " [0. 0. 0. 3.]]\n",
            "E =  [[4. 1. 1. 1.]\n",
            " [1. 4. 1. 1.]\n",
            " [1. 1. 4. 1.]\n",
            " [1. 1. 1. 4.]]\n"
          ]
        }
      ],
      "source": [
        "# Realiza las pruebas a la clase aquí\n",
        "\n",
        "B = matriz(4,4,'diag')\n",
        "print('B = ', B)\n",
        "\n",
        "C = matriz(4,1,'unos')\n",
        "print('C =', C)\n",
        "\n",
        "D = 3 * B * C\n",
        "print('D = ', D)\n",
        "\n",
        "E = 3 * B + C\n",
        "print('E = ', E)"
      ]
    }
  ],
  "metadata": {
    "kernelspec": {
      "display_name": "ing-caract",
      "language": "python",
      "name": "python3"
    },
    "language_info": {
      "codemirror_mode": {
        "name": "ipython",
        "version": 3
      },
      "file_extension": ".py",
      "mimetype": "text/x-python",
      "name": "python",
      "nbconvert_exporter": "python",
      "pygments_lexer": "ipython3",
      "version": "3.8.13"
    },
    "orig_nbformat": 4,
    "colab": {
      "provenance": []
    }
  },
  "nbformat": 4,
  "nbformat_minor": 0
}